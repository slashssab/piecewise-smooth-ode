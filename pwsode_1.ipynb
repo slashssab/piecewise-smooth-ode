{
  "nbformat": 4,
  "nbformat_minor": 0,
  "metadata": {
    "colab": {
      "provenance": [],
      "toc_visible": true,
      "authorship_tag": "ABX9TyNjxcsCgCn2Pyi8FRwOKfMg",
      "include_colab_link": true
    },
    "kernelspec": {
      "name": "python3",
      "display_name": "Python 3"
    },
    "language_info": {
      "name": "python"
    }
  },
  "cells": [
    {
      "cell_type": "markdown",
      "metadata": {
        "id": "view-in-github",
        "colab_type": "text"
      },
      "source": [
        "<a href=\"https://colab.research.google.com/github/slashssab/piecewise-smooth-ode/blob/main/pwsode_1.ipynb\" target=\"_parent\"><img src=\"https://colab.research.google.com/assets/colab-badge.svg\" alt=\"Open In Colab\"/></a>"
      ]
    },
    {
      "cell_type": "markdown",
      "metadata": {
        "id": "fFPGf9mlRz0d"
      },
      "source": [
        "# Introduction\n",
        "\n",
        "The following paper shows several ways to analyze and vizualize pierce-wise smooth problems given by LTI systems. We will use well known python packages like:\n",
        "- scipy\n",
        "- numpy\n",
        "\n",
        "to provide tools concerning stability and periodic behaviors of concidered systems. Let us bring a following example of the LTI system with switching:\n",
        "$$\\ddot{\\theta}=A\\theta + \\mathcal{T}$$\n",
        "where\n",
        "$$\\mathcal{T} = \\begin{cases}\n",
        "     B \\theta + C \\dot{\\theta},& \\text{if }  |\\theta|\\geq \\theta_0\\\\\n",
        "    0,              & \\text{otherwise}\n",
        "\\end{cases},$$\n",
        "where $\\theta_0$ is fixed border value of $\\theta$ where switching is trigered. Most software tools offering solving ODEs accepts problems defined as the first order differential equations in a following form:\n",
        " $$\\dot{x} = f(x),$$\n",
        " where $x$ is a function of time. Having hnown that fact we have to transform equation:\n",
        " $$\\ddot{\\theta}=A\\theta + \\mathcal{T}$$\n",
        " to the first order representation using Jacobian:\n",
        " $$\n",
        "    \\ddot{\\theta}=A\\theta \\Rightarrow \\dot{x}=L_1 x,\n",
        " $$\n",
        "\n",
        "where $x$ is a state vector:\n",
        "$$x = \\begin{bmatrix}\n",
        "\\theta \\\\\n",
        "\\dot{\\theta}\n",
        "\\end{bmatrix},$$\n",
        "and $L_1$ is Jacobian:\n",
        "$$L_1=\\begin{bmatrix}\n",
        "0 & 1\\\\\n",
        "A & 0\n",
        "\\end{bmatrix}.$$\n",
        "The same can be applied for the system with control:\n",
        "$$\n",
        "    \\ddot{\\theta}=A\\theta+B\\theta+C\\dot{\\theta} \\Rightarrow \\dot{x}=L_2 x,\n",
        "$$\n",
        "where\n",
        "$$L_2=\\begin{bmatrix}\n",
        "0 & 1\\\\\n",
        "A+B & C\n",
        "\\end{bmatrix}.$$\n",
        "Problem defined as above will be an example for our consideration."
      ]
    },
    {
      "cell_type": "markdown",
      "metadata": {
        "id": "cAFF6CXHiCBR"
      },
      "source": [
        "# Implementation\n",
        "Before we get started we have to import necessary packages"
      ]
    },
    {
      "cell_type": "code",
      "metadata": {
        "id": "o7kWt2t3idgA"
      },
      "source": [
        "import numpy as np\n",
        "from scipy.integrate import odeint"
      ],
      "execution_count": 2,
      "outputs": []
    },
    {
      "cell_type": "markdown",
      "metadata": {
        "id": "O_gPjn51RzKn"
      },
      "source": [
        "\n",
        "## defining variables\n",
        "We define constants $A$, $B$ and $C$ form our example:"
      ]
    },
    {
      "cell_type": "code",
      "metadata": {
        "id": "wKhiE90ZhnS8"
      },
      "source": [
        "A = 0.5\n",
        "B = -0.7\n",
        "C = 0"
      ],
      "execution_count": 3,
      "outputs": []
    },
    {
      "cell_type": "markdown",
      "metadata": {
        "id": "769Ht8gFiqLG"
      },
      "source": [
        "and Jacobians $L_1$ and $L_2$:\n"
      ]
    },
    {
      "cell_type": "code",
      "metadata": {
        "id": "PRTLf_DRh4rt"
      },
      "source": [
        "L1 = np.array([[0,1],[A, 0]])\n",
        "L2 = np.array([[0,1],[A + B , C]])"
      ],
      "execution_count": 4,
      "outputs": []
    },
    {
      "cell_type": "markdown",
      "metadata": {
        "id": "lhpQzhkajoRP"
      },
      "source": [
        "Having defined those elements we can define our problm with switching by using particular jacobian in dependence of a defined condition. In our case:\n",
        "$$|\\theta| \\ge \\theta_0,$$\n",
        "functionlooks as follows:"
      ]
    },
    {
      "cell_type": "code",
      "metadata": {
        "id": "Y3Tde7a9k_oy"
      },
      "source": [
        "def func(y, t, Ain, Aout, theta_0):\n",
        "    if abs(y[0])>theta_0:\n",
        "        return np.dot(Aout,y)\n",
        "    else:\n",
        "        return np.dot(Ain,y)"
      ],
      "execution_count": 5,
      "outputs": []
    },
    {
      "cell_type": "markdown",
      "metadata": {
        "id": "ygwZhQadlP1H"
      },
      "source": [
        "## Initial value problem\n",
        "Now we define the initial problem for our system:\n",
        "- IVP $$\\begin{bmatrix}\n",
        "\\theta \\\\\n",
        "\\dot{\\theta}\n",
        "\\end{bmatrix}= \\begin{bmatrix}\n",
        "1 \\\\\n",
        "1\n",
        "\\end{bmatrix}$$\n",
        "- time of simuation $T=20$, $N=1000$ samples\n",
        "- $\\theta_0 = 1$\n",
        "\n"
      ]
    },
    {
      "cell_type": "code",
      "metadata": {
        "id": "kYdVZCqrlbAv"
      },
      "source": [
        "ivp = np.array([1,1])\n",
        "theta_0 = 1\n",
        "T = 20\n",
        "N = 1000\n",
        "tspan = np.linspace(0, T, N)"
      ],
      "execution_count": 6,
      "outputs": []
    },
    {
      "cell_type": "markdown",
      "metadata": {
        "id": "3xN3EFiylZ5P"
      },
      "source": [
        "and run the simulation"
      ]
    },
    {
      "cell_type": "code",
      "metadata": {
        "id": "zNxU3xEMi1o-"
      },
      "source": [
        "args = (L1,L2,theta_0)\n",
        "y = odeint(func,ivp,tspan,args=args)"
      ],
      "execution_count": 7,
      "outputs": []
    },
    {
      "cell_type": "markdown",
      "metadata": {
        "id": "7h53FAMLoSHH"
      },
      "source": [
        "## Results\n",
        "Now we can observe simulation results on a phase portrait"
      ]
    },
    {
      "cell_type": "code",
      "metadata": {
        "colab": {
          "base_uri": "https://localhost:8080/",
          "height": 479
        },
        "id": "yjiJiJ8WoOgr",
        "outputId": "a0ddce28-85be-4a11-e559-7f393f3c2692"
      },
      "source": [
        "from matplotlib import pyplot\n",
        "pyplot.title('Phase portrait, T = {0}'.format(T), fontsize=16)\n",
        "pyplot.xlabel(r'$\\theta$', fontsize=14)\n",
        "pyplot.ylabel(r'$\\dot{\\theta}$', rotation = 0, fontsize=14)\n",
        "pyplot.plot(y[:,0], y[:,1])\n",
        "pyplot.show()"
      ],
      "execution_count": 8,
      "outputs": [
        {
          "output_type": "display_data",
          "data": {
            "text/plain": [
              "<Figure size 640x480 with 1 Axes>"
            ],
            "image/png": "[encoded data removed]"
          },
          "metadata": {}
        }
      ]
    },
    {
      "cell_type": "code",
      "source": [],
      "metadata": {
        "id": "7lHeMTjUPH-n"
      },
      "execution_count": null,
      "outputs": []
    }
  ]
}